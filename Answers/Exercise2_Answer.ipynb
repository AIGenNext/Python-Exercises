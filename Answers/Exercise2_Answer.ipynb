{
  "nbformat": 4,
  "nbformat_minor": 0,
  "metadata": {
    "colab": {
      "name": "Exercise2-Answer.ipynb",
      "provenance": [],
      "authorship_tag": "ABX9TyP/AbVNRsofwoW80kcx3wzm",
      "include_colab_link": true
    },
    "kernelspec": {
      "name": "python3",
      "display_name": "Python 3"
    },
    "language_info": {
      "name": "python"
    }
  },
  "cells": [
    {
      "cell_type": "markdown",
      "metadata": {
        "id": "view-in-github",
        "colab_type": "text"
      },
      "source": [
        "<a href=\"https://colab.research.google.com/github/AIGenNext/Python-Exercises/blob/main/Answers/Exercise2_Answer.ipynb\" target=\"_parent\"><img src=\"https://colab.research.google.com/assets/colab-badge.svg\" alt=\"Open In Colab\"/></a>"
      ]
    },
    {
      "cell_type": "markdown",
      "source": [
        "## **Exercise 2 - Max of Two Numbers**"
      ],
      "metadata": {
        "id": "4BAS3V_snxoc"
      }
    },
    {
      "cell_type": "code",
      "source": [
        "num1 = int(input())\n",
        "num2 = int(input())\n",
        "\n",
        "if(num1 > num2):\n",
        "  print(num1)\n",
        "else:\n",
        "  print(num2)"
      ],
      "metadata": {
        "id": "OH6tuT4zn6G_"
      },
      "execution_count": null,
      "outputs": []
    }
  ]
}