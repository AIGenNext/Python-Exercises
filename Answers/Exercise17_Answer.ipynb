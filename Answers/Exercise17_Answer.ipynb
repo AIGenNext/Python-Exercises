{
  "nbformat": 4,
  "nbformat_minor": 0,
  "metadata": {
    "colab": {
      "name": "Exercise17-Answer.ipynb",
      "provenance": [],
      "authorship_tag": "ABX9TyMlPcuZhMBpfPIO66hkequN",
      "include_colab_link": true
    },
    "kernelspec": {
      "name": "python3",
      "display_name": "Python 3"
    },
    "language_info": {
      "name": "python"
    }
  },
  "cells": [
    {
      "cell_type": "markdown",
      "metadata": {
        "id": "view-in-github",
        "colab_type": "text"
      },
      "source": [
        "<a href=\"https://colab.research.google.com/github/AIGenNext/Python-Exercises/blob/main/Answers/Exercise17_Answer.ipynb\" target=\"_parent\"><img src=\"https://colab.research.google.com/assets/colab-badge.svg\" alt=\"Open In Colab\"/></a>"
      ]
    },
    {
      "cell_type": "markdown",
      "source": [
        "## **Exercise 17 - Count Total Number of Digits in a Number**"
      ],
      "metadata": {
        "id": "eXJYyY9KxC8V"
      }
    },
    {
      "cell_type": "code",
      "source": [
        "num = int(input())\n",
        "count = 0\n",
        "while num != 0:\n",
        "    # floor division to remove the last digit from number\n",
        "    num = num // 10\n",
        "\n",
        "    # increment  by 1\n",
        "    count = count + 1\n",
        "print(\"Total digits are:\", count)"
      ],
      "metadata": {
        "id": "aUxcPyONyALM"
      },
      "execution_count": null,
      "outputs": []
    }
  ]
}