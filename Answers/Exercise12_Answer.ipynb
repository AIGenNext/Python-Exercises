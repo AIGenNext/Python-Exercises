{
  "nbformat": 4,
  "nbformat_minor": 0,
  "metadata": {
    "colab": {
      "name": "Exercise12-Answer.ipynb",
      "provenance": [],
      "authorship_tag": "ABX9TyPbTASDAFywNjF4sLhyYOoe",
      "include_colab_link": true
    },
    "kernelspec": {
      "name": "python3",
      "display_name": "Python 3"
    },
    "language_info": {
      "name": "python"
    }
  },
  "cells": [
    {
      "cell_type": "markdown",
      "metadata": {
        "id": "view-in-github",
        "colab_type": "text"
      },
      "source": [
        "<a href=\"https://colab.research.google.com/github/AIGenNext/Python-Exercises/blob/main/Answers/Exercise12_Answer.ipynb\" target=\"_parent\"><img src=\"https://colab.research.google.com/assets/colab-badge.svg\" alt=\"Open In Colab\"/></a>"
      ]
    },
    {
      "cell_type": "markdown",
      "source": [
        "## **Exercise 12 - Factrial of a Number**"
      ],
      "metadata": {
        "id": "MnOTXTDifJB4"
      }
    },
    {
      "cell_type": "code",
      "source": [
        "num = int(input())\n",
        "temp = 1\n",
        "\n",
        "for i in range(1, num+1):\n",
        "  temp *= i\n",
        "\n",
        "print(temp)"
      ],
      "metadata": {
        "colab": {
          "base_uri": "https://localhost:8080/"
        },
        "id": "671dipncfUx-",
        "outputId": "7094b6e4-2ef5-4305-d481-13242d0d7fc7"
      },
      "execution_count": null,
      "outputs": [
        {
          "output_type": "stream",
          "name": "stdout",
          "text": [
            "5\n",
            "120\n"
          ]
        }
      ]
    }
  ]
}