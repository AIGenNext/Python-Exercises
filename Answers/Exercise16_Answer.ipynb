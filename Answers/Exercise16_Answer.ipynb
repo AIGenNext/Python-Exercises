{
  "nbformat": 4,
  "nbformat_minor": 0,
  "metadata": {
    "colab": {
      "name": "Exercise16-Answer.ipynb",
      "provenance": [],
      "authorship_tag": "ABX9TyPsHQeQIbCuLn5LMYRPW6mJ",
      "include_colab_link": true
    },
    "kernelspec": {
      "name": "python3",
      "display_name": "Python 3"
    },
    "language_info": {
      "name": "python"
    }
  },
  "cells": [
    {
      "cell_type": "markdown",
      "metadata": {
        "id": "view-in-github",
        "colab_type": "text"
      },
      "source": [
        "<a href=\"https://colab.research.google.com/github/AIGenNext/Python-Exercises/blob/main/Answers/Exercise16_Answer.ipynb\" target=\"_parent\"><img src=\"https://colab.research.google.com/assets/colab-badge.svg\" alt=\"Open In Colab\"/></a>"
      ]
    },
    {
      "cell_type": "markdown",
      "source": [
        "## **Exercise 16 - Check if Palindrome**"
      ],
      "metadata": {
        "id": "_7UXU4mWwDV9"
      }
    },
    {
      "cell_type": "code",
      "source": [
        "def palindrome(number):\n",
        "    print(\"original number\", number)\n",
        "    original_num = number\n",
        "    \n",
        "    # reverse the given number\n",
        "    reverse_num = 0\n",
        "    while number > 0:\n",
        "        reminder = number % 10\n",
        "        reverse_num = (reverse_num * 10) + reminder\n",
        "        number = number // 10\n",
        "\n",
        "    # check numbers\n",
        "    if original_num == reverse_num:\n",
        "        print(\"Given number palindrome\")\n",
        "    else:\n",
        "        print(\"Given number is not palindrome\")\n",
        "\n",
        "palindrome(121)\n",
        "palindrome(125)"
      ],
      "metadata": {
        "id": "NqaFmd8ZwUcZ"
      },
      "execution_count": null,
      "outputs": []
    }
  ]
}