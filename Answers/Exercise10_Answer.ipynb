{
  "nbformat": 4,
  "nbformat_minor": 0,
  "metadata": {
    "colab": {
      "name": "Exercise10-Answer.ipynb",
      "provenance": [],
      "authorship_tag": "ABX9TyPMJus3aZFQkJrfsTCEtaQI",
      "include_colab_link": true
    },
    "kernelspec": {
      "name": "python3",
      "display_name": "Python 3"
    },
    "language_info": {
      "name": "python"
    }
  },
  "cells": [
    {
      "cell_type": "markdown",
      "metadata": {
        "id": "view-in-github",
        "colab_type": "text"
      },
      "source": [
        "<a href=\"https://colab.research.google.com/github/AIGenNext/Python-Exercises/blob/main/Answers/Exercise10_Answer.ipynb\" target=\"_parent\"><img src=\"https://colab.research.google.com/assets/colab-badge.svg\" alt=\"Open In Colab\"/></a>"
      ]
    },
    {
      "cell_type": "markdown",
      "source": [
        "## **Exercise 10 - Marks and Grade**"
      ],
      "metadata": {
        "id": "NGsPEHqAbUaU"
      }
    },
    {
      "cell_type": "code",
      "source": [
        "mark = int(input())\n",
        "\n",
        "if(mark < 50):\n",
        "  Grade = \"F\"\n",
        "if(mark > 50 and mark < 60):\n",
        "  Grade = \"D\"\n",
        "if(mark > 60 and mark < 70):\n",
        "  Grade = \"C\"\n",
        "if(mark > 70 and mark < 80):\n",
        "  Grade = \"B\"\n",
        "if(mark > 80 and mark < 90):\n",
        "  Grade = \"A-\"\n",
        "if(mark > 90 and mark < 100):\n",
        "  Grade = \"A+\"\n",
        "\n",
        "print(\"Your Grade is\",Grade)"
      ],
      "metadata": {
        "colab": {
          "base_uri": "https://localhost:8080/"
        },
        "id": "ua2LMZKbbfiG",
        "outputId": "440815ba-eec9-46cd-fcc6-69f6e0c1f46d"
      },
      "execution_count": null,
      "outputs": [
        {
          "output_type": "stream",
          "name": "stdout",
          "text": [
            "99\n",
            "Your Grade is A+\n"
          ]
        }
      ]
    }
  ]
}