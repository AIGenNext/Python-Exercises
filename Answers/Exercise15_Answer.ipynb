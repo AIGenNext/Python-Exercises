{
  "nbformat": 4,
  "nbformat_minor": 0,
  "metadata": {
    "colab": {
      "name": "Exercise15-Answer.ipynb",
      "provenance": [],
      "authorship_tag": "ABX9TyNbXacXCfYSCd0FhSEY7aKv",
      "include_colab_link": true
    },
    "kernelspec": {
      "name": "python3",
      "display_name": "Python 3"
    },
    "language_info": {
      "name": "python"
    }
  },
  "cells": [
    {
      "cell_type": "markdown",
      "metadata": {
        "id": "view-in-github",
        "colab_type": "text"
      },
      "source": [
        "<a href=\"https://colab.research.google.com/github/AIGenNext/Python-Exercises/blob/main/Answers/Exercise15_Answer.ipynb\" target=\"_parent\"><img src=\"https://colab.research.google.com/assets/colab-badge.svg\" alt=\"Open In Colab\"/></a>"
      ]
    },
    {
      "cell_type": "markdown",
      "source": [
        "## **Exercise 15 - Reverse a Number**\n"
      ],
      "metadata": {
        "id": "hMGFjOqQwbJ8"
      }
    },
    {
      "cell_type": "code",
      "source": [
        "# Get number as input\n",
        "number = int(input()) \n",
        "\n",
        "# reverse the number\n",
        "reverse_num = 0\n",
        "while number > 0:\n",
        "    reminder = number % 10\n",
        "    reverse_num = (reverse_num * 10) + reminder\n",
        "    number = number // 10\n",
        "\n",
        "print(reverse_num)"
      ],
      "metadata": {
        "colab": {
          "base_uri": "https://localhost:8080/"
        },
        "id": "Qb_KjKXUwere",
        "outputId": "0c5311f3-e6fa-4764-92f1-9a0d4fe6c9ce"
      },
      "execution_count": null,
      "outputs": [
        {
          "output_type": "stream",
          "name": "stdout",
          "text": [
            "2234\n",
            "4322\n"
          ]
        }
      ]
    }
  ]
}