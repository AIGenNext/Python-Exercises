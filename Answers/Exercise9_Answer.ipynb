{
  "nbformat": 4,
  "nbformat_minor": 0,
  "metadata": {
    "colab": {
      "name": "Exercise9-Answer.ipynb",
      "provenance": [],
      "authorship_tag": "ABX9TyNbariBdKY7WTq02hEjJSmS",
      "include_colab_link": true
    },
    "kernelspec": {
      "name": "python3",
      "display_name": "Python 3"
    },
    "language_info": {
      "name": "python"
    }
  },
  "cells": [
    {
      "cell_type": "markdown",
      "metadata": {
        "id": "view-in-github",
        "colab_type": "text"
      },
      "source": [
        "<a href=\"https://colab.research.google.com/github/AIGenNext/Python-Exercises/blob/main/Answers/Exercise9_Answer.ipynb\" target=\"_parent\"><img src=\"https://colab.research.google.com/assets/colab-badge.svg\" alt=\"Open In Colab\"/></a>"
      ]
    },
    {
      "cell_type": "markdown",
      "source": [
        "## **Exercise 9 - Sum of First N Natural Numbers**"
      ],
      "metadata": {
        "id": "dD1Q5w0lZNSi"
      }
    },
    {
      "cell_type": "code",
      "source": [
        "num = int(input())\n",
        "temp = 0\n",
        "\n",
        "for i in range(1, num+1):\n",
        "  temp += i\n",
        "\n",
        "print(temp)"
      ],
      "metadata": {
        "colab": {
          "base_uri": "https://localhost:8080/"
        },
        "id": "Bftiuic-ad-Q",
        "outputId": "fa230a70-0612-477d-8054-ccfe91bf1153"
      },
      "execution_count": null,
      "outputs": [
        {
          "output_type": "stream",
          "name": "stdout",
          "text": [
            "5\n",
            "15\n"
          ]
        }
      ]
    }
  ]
}