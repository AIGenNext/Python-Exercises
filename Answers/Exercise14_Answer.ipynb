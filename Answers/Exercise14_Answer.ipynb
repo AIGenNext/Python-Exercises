{
  "nbformat": 4,
  "nbformat_minor": 0,
  "metadata": {
    "colab": {
      "name": "Exercise14-Answer.ipynb",
      "provenance": [],
      "authorship_tag": "ABX9TyPGtmOig/dS9KF4MtlFRQHG",
      "include_colab_link": true
    },
    "kernelspec": {
      "name": "python3",
      "display_name": "Python 3"
    },
    "language_info": {
      "name": "python"
    }
  },
  "cells": [
    {
      "cell_type": "markdown",
      "metadata": {
        "id": "view-in-github",
        "colab_type": "text"
      },
      "source": [
        "<a href=\"https://colab.research.google.com/github/AIGenNext/Python-Exercises/blob/main/Answers/Exercise14_Answer.ipynb\" target=\"_parent\"><img src=\"https://colab.research.google.com/assets/colab-badge.svg\" alt=\"Open In Colab\"/></a>"
      ]
    },
    {
      "cell_type": "markdown",
      "source": [
        "## **Exercise 14 - Write Program to Find Power**"
      ],
      "metadata": {
        "id": "I8H_cb7mi3mh"
      }
    },
    {
      "cell_type": "code",
      "source": [
        "def exponent(base, exp):\n",
        "    num = exp\n",
        "    result = 1\n",
        "    while num > 0:\n",
        "        result = result * base\n",
        "        num = num - 1\n",
        "    print(base, \"raises to the power of\", exp, \"is: \", result)\n",
        "\n",
        "exponent(5, 4)"
      ],
      "metadata": {
        "id": "CdUepAaqjn0m"
      },
      "execution_count": null,
      "outputs": []
    }
  ]
}