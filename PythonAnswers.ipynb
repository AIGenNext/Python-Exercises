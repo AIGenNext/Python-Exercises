{
  "nbformat": 4,
  "nbformat_minor": 0,
  "metadata": {
    "colab": {
      "name": "PythonAnswers.ipynb",
      "provenance": [],
      "authorship_tag": "ABX9TyOQeeCK4h/vSyBl1TKa2x3d",
      "include_colab_link": true
    },
    "kernelspec": {
      "name": "python3",
      "display_name": "Python 3"
    },
    "language_info": {
      "name": "python"
    }
  },
  "cells": [
    {
      "cell_type": "markdown",
      "metadata": {
        "id": "view-in-github",
        "colab_type": "text"
      },
      "source": [
        "<a href=\"https://colab.research.google.com/github/AIGenNext/Python-Exercises/blob/main/PythonAnswers.ipynb\" target=\"_parent\"><img src=\"https://colab.research.google.com/assets/colab-badge.svg\" alt=\"Open In Colab\"/></a>"
      ]
    },
    {
      "cell_type": "markdown",
      "source": [
        "## **Exercise 1 - Positive or Negative**"
      ],
      "metadata": {
        "id": "VJojUVdsnhMw"
      }
    },
    {
      "cell_type": "code",
      "execution_count": null,
      "metadata": {
        "id": "ky0lP1slneLH"
      },
      "outputs": [],
      "source": [
        "num = int(input())\n",
        "\n",
        "if(num > 0):\n",
        "  print(\"Positive\")\n",
        "else:\n",
        "  print(\"Negative\")"
      ]
    },
    {
      "cell_type": "markdown",
      "source": [
        "## **Exercise 2 - Max of Two Numbers**"
      ],
      "metadata": {
        "id": "4BAS3V_snxoc"
      }
    },
    {
      "cell_type": "code",
      "source": [
        "num1 = int(input())\n",
        "num2 = int(input())\n",
        "\n",
        "if(num1 > num2):\n",
        "  print(num1)\n",
        "else:\n",
        "  print(num2)"
      ],
      "metadata": {
        "id": "OH6tuT4zn6G_"
      },
      "execution_count": null,
      "outputs": []
    },
    {
      "cell_type": "markdown",
      "source": [
        "## **Exercise 3 - Max of Three Numbers**"
      ],
      "metadata": {
        "id": "aI5PunzvoGaG"
      }
    },
    {
      "cell_type": "code",
      "source": [
        "num1 = int(input())\n",
        "num2 = int(input())\n",
        "num3 = int(input())\n",
        "\n",
        "if(num1 > num2 and num1 > num3):\n",
        "  print(num1)\n",
        "elif(num2 > num1 and num2 > num3):\n",
        "  print(num2)\n",
        "else:\n",
        "  print(num3)"
      ],
      "metadata": {
        "id": "rkb69LtyoF3m"
      },
      "execution_count": null,
      "outputs": []
    },
    {
      "cell_type": "markdown",
      "source": [
        "## **Exercise 4 - Welcome a User**"
      ],
      "metadata": {
        "id": "ckE3TimUogX5"
      }
    },
    {
      "cell_type": "code",
      "source": [
        "name = input()\n",
        "\n",
        "print(\"welcome\", name)"
      ],
      "metadata": {
        "id": "nvJjFMo6TFdh"
      },
      "execution_count": null,
      "outputs": []
    },
    {
      "cell_type": "markdown",
      "source": [
        "## **Exercise 5 - Prime Number or Not**"
      ],
      "metadata": {
        "id": "fCip9lyZTUmN"
      }
    },
    {
      "cell_type": "code",
      "source": [
        "num = int(input())\n",
        "\n",
        "for i in range(2, num, 1):\n",
        "  if(num % i) == 0:\n",
        "    print(\"Not a Prime Number\")\n",
        "    break\n",
        "else:\n",
        "  print(\"Prime Number\")"
      ],
      "metadata": {
        "colab": {
          "base_uri": "https://localhost:8080/"
        },
        "id": "vr6vhvL2TULJ",
        "outputId": "db785bfa-a093-4cf0-f915-fa1a22cb1e5d"
      },
      "execution_count": null,
      "outputs": [
        {
          "output_type": "stream",
          "name": "stdout",
          "text": [
            "7\n",
            "Prime Number\n"
          ]
        }
      ]
    },
    {
      "cell_type": "markdown",
      "source": [
        "## **Exercise 6 - Print a Pattern pt 1**"
      ],
      "metadata": {
        "id": "IbB3jTHnWDAt"
      }
    },
    {
      "cell_type": "code",
      "source": [
        "for i in range(1, 6,1):\n",
        "  print('*'*i)"
      ],
      "metadata": {
        "colab": {
          "base_uri": "https://localhost:8080/"
        },
        "id": "AKY2m4l-XaS0",
        "outputId": "35579269-112a-4d49-926b-cba76e014629"
      },
      "execution_count": null,
      "outputs": [
        {
          "output_type": "stream",
          "name": "stdout",
          "text": [
            "*\n",
            "**\n",
            "***\n",
            "****\n",
            "*****\n"
          ]
        }
      ]
    },
    {
      "cell_type": "markdown",
      "source": [
        "## **Exercise 7 - Print Pattern in Reverse**"
      ],
      "metadata": {
        "id": "yhtSC96mXk6s"
      }
    },
    {
      "cell_type": "code",
      "source": [
        "for i in range(6, 0, -1):\n",
        "  print('*'*i)"
      ],
      "metadata": {
        "colab": {
          "base_uri": "https://localhost:8080/"
        },
        "id": "jzgoUrs5XqUx",
        "outputId": "400003a2-bdf3-47c9-c396-b3d1b3df3f01"
      },
      "execution_count": null,
      "outputs": [
        {
          "output_type": "stream",
          "name": "stdout",
          "text": [
            "******\n",
            "*****\n",
            "****\n",
            "***\n",
            "**\n",
            "*\n"
          ]
        }
      ]
    },
    {
      "cell_type": "markdown",
      "source": [
        "## **Exercise 8 - Odd or Even**"
      ],
      "metadata": {
        "id": "R4_FfEQ2XyQn"
      }
    },
    {
      "cell_type": "code",
      "source": [
        "num = int(input(\"Enter a number: \"))\n",
        "\n",
        "if (num % 2 == 0):\n",
        "    print(\"You picked an even number.\")\n",
        "else:\n",
        "    print(\"You picked an odd number.\")"
      ],
      "metadata": {
        "colab": {
          "base_uri": "https://localhost:8080/"
        },
        "id": "j7ZwFmrtY7fc",
        "outputId": "1cb3d38f-e4e3-4b3b-bd40-28588bb185cc"
      },
      "execution_count": null,
      "outputs": [
        {
          "output_type": "stream",
          "name": "stdout",
          "text": [
            "Enter a number: 3\n",
            "You picked an odd number.\n"
          ]
        }
      ]
    },
    {
      "cell_type": "markdown",
      "source": [
        "## **Exercise 9 - Sum of First N Natural Numbers**"
      ],
      "metadata": {
        "id": "dD1Q5w0lZNSi"
      }
    },
    {
      "cell_type": "code",
      "source": [
        "num = int(input())\n",
        "temp = 0\n",
        "\n",
        "for i in range(1, num+1):\n",
        "  temp += i\n",
        "\n",
        "print(temp)"
      ],
      "metadata": {
        "colab": {
          "base_uri": "https://localhost:8080/"
        },
        "id": "Bftiuic-ad-Q",
        "outputId": "fa230a70-0612-477d-8054-ccfe91bf1153"
      },
      "execution_count": null,
      "outputs": [
        {
          "output_type": "stream",
          "name": "stdout",
          "text": [
            "5\n",
            "15\n"
          ]
        }
      ]
    },
    {
      "cell_type": "markdown",
      "source": [
        "## **Exercise 10 - Marks and Grade**"
      ],
      "metadata": {
        "id": "NGsPEHqAbUaU"
      }
    },
    {
      "cell_type": "code",
      "source": [
        "mark = int(input())\n",
        "\n",
        "if(mark < 50):\n",
        "  Grade = \"F\"\n",
        "if(mark > 50 and mark < 60):\n",
        "  Grade = \"D\"\n",
        "if(mark > 60 and mark < 70):\n",
        "  Grade = \"C\"\n",
        "if(mark > 70 and mark < 80):\n",
        "  Grade = \"B\"\n",
        "if(mark > 80 and mark < 90):\n",
        "  Grade = \"A-\"\n",
        "if(mark > 90 and mark < 100):\n",
        "  Grade = \"A+\"\n",
        "\n",
        "print(\"Your Grade is\",Grade)"
      ],
      "metadata": {
        "colab": {
          "base_uri": "https://localhost:8080/"
        },
        "id": "ua2LMZKbbfiG",
        "outputId": "440815ba-eec9-46cd-fcc6-69f6e0c1f46d"
      },
      "execution_count": null,
      "outputs": [
        {
          "output_type": "stream",
          "name": "stdout",
          "text": [
            "99\n",
            "Your Grade is A+\n"
          ]
        }
      ]
    },
    {
      "cell_type": "markdown",
      "source": [
        "## **Exercise 11 - Multiplication Table of 2**"
      ],
      "metadata": {
        "id": "YwYAMwLvevmM"
      }
    },
    {
      "cell_type": "code",
      "source": [
        "for i in range(1, 10):\n",
        "  print(i*2)"
      ],
      "metadata": {
        "colab": {
          "base_uri": "https://localhost:8080/"
        },
        "id": "n38vwN17e-rK",
        "outputId": "6e5db7fd-dfc0-4a74-88a0-9f50456ccbb7"
      },
      "execution_count": null,
      "outputs": [
        {
          "output_type": "stream",
          "name": "stdout",
          "text": [
            "2\n",
            "4\n",
            "6\n",
            "8\n",
            "10\n",
            "12\n",
            "14\n",
            "16\n",
            "18\n"
          ]
        }
      ]
    },
    {
      "cell_type": "markdown",
      "source": [
        "## **Exercise 12 - Factrial of a Number**"
      ],
      "metadata": {
        "id": "MnOTXTDifJB4"
      }
    },
    {
      "cell_type": "code",
      "source": [
        "num = int(input())\n",
        "temp = 1\n",
        "\n",
        "for i in range(1, num+1):\n",
        "  temp *= i\n",
        "\n",
        "print(temp)"
      ],
      "metadata": {
        "colab": {
          "base_uri": "https://localhost:8080/"
        },
        "id": "671dipncfUx-",
        "outputId": "7094b6e4-2ef5-4305-d481-13242d0d7fc7"
      },
      "execution_count": null,
      "outputs": [
        {
          "output_type": "stream",
          "name": "stdout",
          "text": [
            "5\n",
            "120\n"
          ]
        }
      ]
    },
    {
      "cell_type": "markdown",
      "source": [
        "## **Exercise 13 - Fibonacci Series**"
      ],
      "metadata": {
        "id": "zZbThcMkgLXS"
      }
    },
    {
      "cell_type": "code",
      "source": [
        "# n terms\n",
        "nterms = int(input(\"How many terms? \"))\n",
        "\n",
        "# first two terms\n",
        "n1, n2 = 0, 1\n",
        "count = 0\n",
        "\n",
        "while count < nterms:\n",
        "    print(n1)\n",
        "    nth = n1 + n2\n",
        "    # update values\n",
        "    n1 = n2\n",
        "    n2 = nth\n",
        "    count += 1"
      ],
      "metadata": {
        "colab": {
          "base_uri": "https://localhost:8080/"
        },
        "id": "2IyvjP4ZihA_",
        "outputId": "1a813e94-78ab-4b15-e3a1-8bcd5527743c"
      },
      "execution_count": null,
      "outputs": [
        {
          "output_type": "stream",
          "name": "stdout",
          "text": [
            "How many terms? 10\n",
            "0\n",
            "1\n",
            "1\n",
            "2\n",
            "3\n",
            "5\n",
            "8\n",
            "13\n",
            "21\n",
            "34\n"
          ]
        }
      ]
    },
    {
      "cell_type": "markdown",
      "source": [
        "## **Exercise 14 - Write Program to Find Power**"
      ],
      "metadata": {
        "id": "I8H_cb7mi3mh"
      }
    },
    {
      "cell_type": "code",
      "source": [
        "def exponent(base, exp):\n",
        "    num = exp\n",
        "    result = 1\n",
        "    while num > 0:\n",
        "        result = result * base\n",
        "        num = num - 1\n",
        "    print(base, \"raises to the power of\", exp, \"is: \", result)\n",
        "\n",
        "exponent(5, 4)"
      ],
      "metadata": {
        "id": "CdUepAaqjn0m"
      },
      "execution_count": null,
      "outputs": []
    },
    {
      "cell_type": "markdown",
      "source": [
        "## **Exercise 15 - Reverse a Number**\n"
      ],
      "metadata": {
        "id": "hMGFjOqQwbJ8"
      }
    },
    {
      "cell_type": "code",
      "source": [
        "# Get number as input\n",
        "number = int(input()) \n",
        "\n",
        "# reverse the number\n",
        "reverse_num = 0\n",
        "while number > 0:\n",
        "    reminder = number % 10\n",
        "    reverse_num = (reverse_num * 10) + reminder\n",
        "    number = number // 10\n",
        "\n",
        "print(reverse_num)"
      ],
      "metadata": {
        "colab": {
          "base_uri": "https://localhost:8080/"
        },
        "id": "Qb_KjKXUwere",
        "outputId": "0c5311f3-e6fa-4764-92f1-9a0d4fe6c9ce"
      },
      "execution_count": null,
      "outputs": [
        {
          "output_type": "stream",
          "name": "stdout",
          "text": [
            "2234\n",
            "4322\n"
          ]
        }
      ]
    },
    {
      "cell_type": "markdown",
      "source": [
        "## **Exercise 16 - Check if Palindrome**"
      ],
      "metadata": {
        "id": "_7UXU4mWwDV9"
      }
    },
    {
      "cell_type": "code",
      "source": [
        "def palindrome(number):\n",
        "    print(\"original number\", number)\n",
        "    original_num = number\n",
        "    \n",
        "    # reverse the given number\n",
        "    reverse_num = 0\n",
        "    while number > 0:\n",
        "        reminder = number % 10\n",
        "        reverse_num = (reverse_num * 10) + reminder\n",
        "        number = number // 10\n",
        "\n",
        "    # check numbers\n",
        "    if original_num == reverse_num:\n",
        "        print(\"Given number palindrome\")\n",
        "    else:\n",
        "        print(\"Given number is not palindrome\")\n",
        "\n",
        "palindrome(121)\n",
        "palindrome(125)"
      ],
      "metadata": {
        "id": "NqaFmd8ZwUcZ"
      },
      "execution_count": null,
      "outputs": []
    },
    {
      "cell_type": "markdown",
      "source": [
        "## **Exercise 17 - Count Total Number of Digits in a Number**"
      ],
      "metadata": {
        "id": "eXJYyY9KxC8V"
      }
    },
    {
      "cell_type": "code",
      "source": [
        "num = int(input())\n",
        "count = 0\n",
        "while num != 0:\n",
        "    # floor division to remove the last digit from number\n",
        "    num = num // 10\n",
        "\n",
        "    # increment  by 1\n",
        "    count = count + 1\n",
        "print(\"Total digits are:\", count)"
      ],
      "metadata": {
        "id": "aUxcPyONyALM"
      },
      "execution_count": null,
      "outputs": []
    },
    {
      "cell_type": "markdown",
      "source": [
        "## **Exercise 18 - Display Number From List that are greater than 5**"
      ],
      "metadata": {
        "id": "C2GSUZudyJk2"
      }
    },
    {
      "cell_type": "code",
      "source": [
        "numbers = [12, 75, 150, 180, 145, 525, 50]\n",
        "\n",
        "# check if number is divisible by 5\n",
        "for item in numbers:\n",
        "  if (item % 5 == 0):\n",
        "      print(item)"
      ],
      "metadata": {
        "colab": {
          "base_uri": "https://localhost:8080/"
        },
        "id": "xxDbF9bA4bge",
        "outputId": "71c77c54-0741-4644-e5e1-5a826ff8b875"
      },
      "execution_count": null,
      "outputs": [
        {
          "output_type": "stream",
          "name": "stdout",
          "text": [
            "75\n",
            "150\n",
            "180\n",
            "145\n",
            "525\n",
            "50\n"
          ]
        }
      ]
    },
    {
      "cell_type": "markdown",
      "source": [
        "## **Exercise 19 - Print List in Reverse Order**"
      ],
      "metadata": {
        "id": "YB6TZ_A74uId"
      }
    },
    {
      "cell_type": "code",
      "source": [
        "list1 = [10, 20, 30, 40, 50]\n",
        "\n",
        "# iterate list in reverse order star from last item to first\n",
        "for i in range(len(list1) - 1, -1, -1):\n",
        "    print(list1[i])"
      ],
      "metadata": {
        "colab": {
          "base_uri": "https://localhost:8080/"
        },
        "id": "ptRpC4OZ47_o",
        "outputId": "fa318f80-45d4-47d1-e5cc-ca524458ea61"
      },
      "execution_count": null,
      "outputs": [
        {
          "output_type": "stream",
          "name": "stdout",
          "text": [
            "50\n",
            "40\n",
            "30\n",
            "20\n",
            "10\n"
          ]
        }
      ]
    },
    {
      "cell_type": "markdown",
      "source": [
        "## **Exercise 20 - Find if a alphabet is a vowel**"
      ],
      "metadata": {
        "id": "q9F9X_mU5RlN"
      }
    },
    {
      "cell_type": "code",
      "source": [
        "def is_vowel(char):\n",
        "    all_vowels = 'aeiou'\n",
        "\n",
        "    if char in all_vowels:\n",
        "      return True\n",
        "    else:\n",
        "      return False\n",
        "      \n",
        "print(is_vowel('c'))\n",
        "print(is_vowel('e'))"
      ],
      "metadata": {
        "colab": {
          "base_uri": "https://localhost:8080/"
        },
        "id": "z5VdeAZI5tz0",
        "outputId": "9541e81e-a9ad-47a1-c3a9-11bb5bd5ef52"
      },
      "execution_count": null,
      "outputs": [
        {
          "output_type": "stream",
          "name": "stdout",
          "text": [
            "False\n",
            "True\n"
          ]
        }
      ]
    },
    {
      "cell_type": "markdown",
      "source": [
        "## **Exercise 21 - Find Cube of a Number**"
      ],
      "metadata": {
        "id": "1dI2zVoa7QrO"
      }
    },
    {
      "cell_type": "code",
      "source": [
        "def cube(num):\n",
        "  return num*num*num\n",
        "\n",
        "print(cube(20))"
      ],
      "metadata": {
        "colab": {
          "base_uri": "https://localhost:8080/"
        },
        "id": "7_NunSwf7OXM",
        "outputId": "6fda1623-474b-4af0-b883-35e452897fb9"
      },
      "execution_count": null,
      "outputs": [
        {
          "output_type": "stream",
          "name": "stdout",
          "text": [
            "8000\n"
          ]
        }
      ]
    },
    {
      "cell_type": "markdown",
      "source": [
        "## **Exercise 22 - Split String on Hyphens**"
      ],
      "metadata": {
        "id": "3xkqgYf27sIW"
      }
    },
    {
      "cell_type": "code",
      "source": [
        "str1 = \"Richard-is-a-data-scientist\"\n",
        "print(\"Original String is:\", str1)\n",
        "\n",
        "# split string\n",
        "sub_strings = str1.split(\"-\")\n",
        "\n",
        "for sub in sub_strings:\n",
        "    print(sub)"
      ],
      "metadata": {
        "id": "jiciFx_U8vei"
      },
      "execution_count": null,
      "outputs": []
    },
    {
      "cell_type": "markdown",
      "source": [
        "## **Exercise 23 - Swap Two Variables**"
      ],
      "metadata": {
        "id": "b_xc78jM83U2"
      }
    },
    {
      "cell_type": "code",
      "source": [
        "a = 10\n",
        "b = 20\n",
        "\n",
        "a , b = b, a\n",
        "print(\"a =\",a)\n",
        "print(\"b =\",b)"
      ],
      "metadata": {
        "colab": {
          "base_uri": "https://localhost:8080/"
        },
        "id": "L2cWFUI7AFEE",
        "outputId": "72d0934f-f48e-4bbd-e026-6e71b8763261"
      },
      "execution_count": null,
      "outputs": [
        {
          "output_type": "stream",
          "name": "stdout",
          "text": [
            "a = 20\n",
            "b = 10\n"
          ]
        }
      ]
    },
    {
      "cell_type": "markdown",
      "source": [
        "## **Exercise 24 - Check Leap Year**"
      ],
      "metadata": {
        "id": "rkqFLb99AT_V"
      }
    },
    {
      "cell_type": "code",
      "source": [
        "year = int(input(\"Enter a year: \"))\n",
        "\n",
        "# divided by 100 means century year (ending with 00)\n",
        "# century year divided by 400 is leap year\n",
        "if (year % 400 == 0) and (year % 100 == 0):\n",
        "    print(year,\"is a leap year\")\n",
        "\n",
        "# not divided by 100 means not a century year\n",
        "# year divided by 4 is a leap year\n",
        "elif (year % 4 ==0) and (year % 100 != 0):\n",
        "    print(year,\"is a leap year\".format(year))\n",
        "\n",
        "# if not divided by both 400 (century year) and 4 (not century year)\n",
        "# year is not leap year\n",
        "else:\n",
        "    print(year,\"is not a leap year\".format(year))"
      ],
      "metadata": {
        "id": "wErPua0REKY9"
      },
      "execution_count": null,
      "outputs": []
    },
    {
      "cell_type": "markdown",
      "source": [
        "## **Exercise 25 - Square all items in a list**"
      ],
      "metadata": {
        "id": "wOzqIvi-Ecrk"
      }
    },
    {
      "cell_type": "code",
      "source": [
        "numbers = [1, 2, 3, 4, 5, 6, 7]\n",
        "# result list\n",
        "res = []\n",
        "for i in numbers:\n",
        "    # calculate square and add to the result list\n",
        "    res.append(i * i)\n",
        "print(res)"
      ],
      "metadata": {
        "id": "i2iZlldgE9df"
      },
      "execution_count": null,
      "outputs": []
    },
    {
      "cell_type": "markdown",
      "source": [
        "## **Exercise 26 - Add all Elements in a List**"
      ],
      "metadata": {
        "id": "2f1dl0j4E_PZ"
      }
    },
    {
      "cell_type": "code",
      "source": [
        "newlist = [20, 3, 5, 7, 8, 49]\n",
        "temp = 0\n",
        "\n",
        "for num in newlist:\n",
        "  temp += num\n",
        "\n",
        "print(temp)"
      ],
      "metadata": {
        "colab": {
          "base_uri": "https://localhost:8080/"
        },
        "id": "SHLCIsC9E-r1",
        "outputId": "d7ac9edf-28cc-4a04-b952-299830c17dc7"
      },
      "execution_count": null,
      "outputs": [
        {
          "output_type": "stream",
          "name": "stdout",
          "text": [
            "92\n"
          ]
        }
      ]
    },
    {
      "cell_type": "markdown",
      "source": [
        "## **Exercise 27 - Find Largest Num in list without using Max Function**"
      ],
      "metadata": {
        "id": "F0rYmgjIFZNd"
      }
    },
    {
      "cell_type": "code",
      "source": [
        "newlist = [20, 3, 5, 7, 8, 49]\n",
        "\n",
        "# sorting the list in ascending order\n",
        "newlist.sort()\n",
        "\n",
        "# the sorted list will have the largest number as the last\n",
        "print(newlist[-1])"
      ],
      "metadata": {
        "colab": {
          "base_uri": "https://localhost:8080/"
        },
        "id": "KJ5LN7H4Fwtw",
        "outputId": "efa9b178-8e24-4de7-febb-c17c45ef1e77"
      },
      "execution_count": null,
      "outputs": [
        {
          "output_type": "stream",
          "name": "stdout",
          "text": [
            "49\n"
          ]
        }
      ]
    },
    {
      "cell_type": "markdown",
      "source": [
        "## **Exercise 28 - Count How many times a Element Appears in a List**"
      ],
      "metadata": {
        "id": "wLJ53xyYGN20"
      }
    },
    {
      "cell_type": "code",
      "source": [
        "# Python code to count the number of occurrences\n",
        "def countX(lst, x):\n",
        "\tcount = 0\n",
        "\tfor i in lst:\n",
        "\t\tif (id == x):\n",
        "\t\t\tcount = count + 1\n",
        "\treturn count\n",
        "\n",
        "# Driver Code\n",
        "lst = [8, 6, 8, 10, 8, 20, 10, 8, 8]\n",
        "x = 8\n",
        "print(countX(lst, x))"
      ],
      "metadata": {
        "colab": {
          "base_uri": "https://localhost:8080/"
        },
        "id": "OZIg-2d2G6WQ",
        "outputId": "bf12b7e8-dafd-45a9-d9c2-c369b06954ed"
      },
      "execution_count": null,
      "outputs": [
        {
          "output_type": "stream",
          "name": "stdout",
          "text": [
            "0\n"
          ]
        }
      ]
    },
    {
      "cell_type": "markdown",
      "source": [
        "## **Exercise 29 - Program To Find Even and Odd Numbers in a List**"
      ],
      "metadata": {
        "id": "9ZtobcYTVbaK"
      }
    },
    {
      "cell_type": "code",
      "source": [
        "# Python program to count Even\n",
        "# and Odd numbers in a List\n",
        "\n",
        "# list of numbers\n",
        "list1 = [10, 21, 4, 45, 66, 93, 1]\n",
        "\n",
        "even_count, odd_count = 0, 0\n",
        "\n",
        "# iterating each number in list\n",
        "for num in list1:\n",
        "\t\n",
        "\t# checking condition\n",
        "\tif num % 2 == 0:\n",
        "\t\teven_count += 1\n",
        "\n",
        "\telse:\n",
        "\t\todd_count += 1\n",
        "\t\t\n",
        "print(\"Even numbers in the list: \", even_count)\n",
        "print(\"Odd numbers in the list: \", odd_count)"
      ],
      "metadata": {
        "colab": {
          "base_uri": "https://localhost:8080/"
        },
        "id": "JNhnfJrWVa9h",
        "outputId": "1ff9f972-c832-4e77-b2b8-425bbfeb9f17"
      },
      "execution_count": null,
      "outputs": [
        {
          "output_type": "stream",
          "name": "stdout",
          "text": [
            "Even numbers in the list:  3\n",
            "Odd numbers in the list:  4\n"
          ]
        }
      ]
    },
    {
      "cell_type": "markdown",
      "source": [
        "## **Exercise 30 - Convert a List into a Single String**"
      ],
      "metadata": {
        "id": "vKen3bKGWD2H"
      }
    },
    {
      "cell_type": "code",
      "source": [
        "# Python program to convert a list to string\n",
        "\t\n",
        "# Function to convert\n",
        "def listToString(s):\n",
        "\t\n",
        "\t# initialize an empty string\n",
        "\tstr1 = \"\"\n",
        "\t\n",
        "\t# traverse in the string\n",
        "\tfor ele in s:\n",
        "\t\tstr1 += ele\n",
        "\t\n",
        "\t# return string\n",
        "\treturn str1\n",
        "\t\t\n",
        "\t\t\n",
        "# Driver code\t\n",
        "s = ['Geeks', 'for', 'Geeks']\n",
        "print(listToString(s))"
      ],
      "metadata": {
        "colab": {
          "base_uri": "https://localhost:8080/"
        },
        "id": "8EzMLm2uWlji",
        "outputId": "1ba2b15e-baed-4570-bd48-d861492800f7"
      },
      "execution_count": null,
      "outputs": [
        {
          "output_type": "stream",
          "name": "stdout",
          "text": [
            "GeeksforGeeks\n"
          ]
        }
      ]
    },
    {
      "cell_type": "markdown",
      "source": [
        "## **Exercise 31 - Swap the First and Last Elements of the List**"
      ],
      "metadata": {
        "id": "xnNXSRBOWnNp"
      }
    },
    {
      "cell_type": "code",
      "source": [
        "# Swap function\n",
        "def swapList(newList):\n",
        "\t\n",
        "\tnewList[0], newList[-1] = newList[-1], newList[0]\n",
        "\n",
        "\treturn newList\n",
        "\t\n",
        "# Driver code\n",
        "newList = [12, 35, 9, 56, 24]\n",
        "print(swapList(newList))"
      ],
      "metadata": {
        "id": "ZsBcBK3GYB5e"
      },
      "execution_count": null,
      "outputs": []
    },
    {
      "cell_type": "markdown",
      "source": [
        "## **Exercise 32 - Add a Tuple to a List and Vice-Versa**"
      ],
      "metadata": {
        "id": "I8I6859ZYE1x"
      }
    },
    {
      "cell_type": "code",
      "source": [
        "# initializing list\n",
        "test_list = [5, 6, 7]\n",
        "\n",
        "# printing original list\n",
        "print(\"The original list is : \" + str(test_list))\n",
        "\n",
        "# initializing tuple\n",
        "test_tup = (9, 10)\n",
        "\n",
        "# Adding Tuple to List and vice - versa\n",
        "# Using tuple(), data type conversion [tuple + list]\n",
        "res = tuple(list(test_tup) + test_list)\n",
        "\n",
        "# printing result\n",
        "print(\"The container after addition : \" + str(res))"
      ],
      "metadata": {
        "id": "rY_gNBF-YdFI"
      },
      "execution_count": null,
      "outputs": []
    },
    {
      "cell_type": "markdown",
      "source": [
        "## **Exercise 33 - Sum of all Items in a Dictionary**"
      ],
      "metadata": {
        "id": "QnglrZW2Yvuw"
      }
    },
    {
      "cell_type": "code",
      "source": [
        "def returnSum(myDict):\n",
        "\n",
        "\tlist = []\n",
        "\tfor i in myDict:\n",
        "\t\tlist.append(myDict[i])\n",
        "\tfinal = sum(list)\n",
        "\n",
        "\treturn final\n",
        "\n",
        "dict = {'a': 100, 'b': 200, 'c': 300}\n",
        "print(\"Sum :\", returnSum(dict))"
      ],
      "metadata": {
        "id": "izMDPQzLZMxc"
      },
      "execution_count": null,
      "outputs": []
    },
    {
      "cell_type": "markdown",
      "source": [
        "## **Exercise 34 - Find if a Given Number is ArmStrong Number**"
      ],
      "metadata": {
        "id": "EDJWqyysZSU1"
      }
    },
    {
      "cell_type": "code",
      "source": [
        "num = 1634\n",
        "\n",
        "# find length\n",
        "order = len(str(num))\n",
        "\n",
        "# initialize sum\n",
        "sum = 0\n",
        "\n",
        "# find the sum of the cube of each digit\n",
        "temp = num\n",
        "while temp > 0:\n",
        "   digit = temp % 10\n",
        "   sum += digit ** order\n",
        "   temp //= 10\n",
        "\n",
        "# display the result\n",
        "if num == sum:\n",
        "   print(num,\"is an Armstrong number\")\n",
        "else:\n",
        "   print(num,\"is not an Armstrong number\")"
      ],
      "metadata": {
        "id": "uOsL_7XQaXEt"
      },
      "execution_count": null,
      "outputs": []
    },
    {
      "cell_type": "markdown",
      "source": [
        "## **Exercise 35 - Check if password has atleast one letter and one number**"
      ],
      "metadata": {
        "id": "SFHEO6hladXp"
      }
    },
    {
      "cell_type": "code",
      "source": [
        "def checkpass(str):\n",
        "\n",
        "\t# initializing flag variable\n",
        "\tflag_l = False\n",
        "\tflag_n = False\n",
        "\n",
        "\tfor i in str:\n",
        "\t\n",
        "\t\t# if string has letter\n",
        "\t\tif i.isalpha():\n",
        "\t\t\tflag_l = True\n",
        "\n",
        "\t\t# if string has number\n",
        "\t\tif i.isdigit():\n",
        "\t\t\tflag_n = True\n",
        "\n",
        "\treturn flag_l and flag_n\n",
        "\n",
        "\n",
        "# driver code\n",
        "print(checkpass('thishasboth29'))\n",
        "print(checkpass('AiGenNext'))"
      ],
      "metadata": {
        "colab": {
          "base_uri": "https://localhost:8080/"
        },
        "id": "91BJiiyWbCd6",
        "outputId": "72d9ca0a-e085-4f2d-e33a-386e7249fd10"
      },
      "execution_count": null,
      "outputs": [
        {
          "output_type": "stream",
          "name": "stdout",
          "text": [
            "True\n",
            "False\n",
            "False\n",
            "True\n",
            "False\n",
            "False\n"
          ]
        }
      ]
    },
    {
      "cell_type": "markdown",
      "source": [
        "## **Exercise 36 - Perfect Number**"
      ],
      "metadata": {
        "id": "pfUm2LA3craE"
      }
    },
    {
      "cell_type": "code",
      "source": [
        "# Returns true if n is perfect\n",
        "def isPerfect(n):\n",
        "     \n",
        "    # To store sum of divisors\n",
        "    sum = 1\n",
        "     \n",
        "    # Find all divisors and add them\n",
        "    i = 2\n",
        "    while i * i <= n:\n",
        "        if n % i == 0:\n",
        "            sum = sum + i + n/i\n",
        "        i += 1\n",
        "    \n",
        "    return sum == n\n",
        "\n",
        "print(isPerfect(6))"
      ],
      "metadata": {
        "colab": {
          "base_uri": "https://localhost:8080/"
        },
        "id": "uuntQ0BNcrD6",
        "outputId": "19b08a36-fb96-4459-a895-54250aee06a5"
      },
      "execution_count": null,
      "outputs": [
        {
          "output_type": "stream",
          "name": "stdout",
          "text": [
            "True\n"
          ]
        }
      ]
    },
    {
      "cell_type": "markdown",
      "source": [
        "## **Exercise 37 - Program to Find Average of Set of Integers**"
      ],
      "metadata": {
        "id": "nxL4RszKdoaZ"
      }
    },
    {
      "cell_type": "code",
      "source": [
        "count = int(input(\"Enter the count of numbers: \"))\n",
        "i = 0\n",
        "sum = 0\n",
        "for i in range(count):\n",
        "    x = int(input(\"Enter an integer: \"))\n",
        "    sum = sum + x\n",
        "avg = sum/count\n",
        "print(\" The average is: \", avg)"
      ],
      "metadata": {
        "id": "Gzb-SVqKepX8"
      },
      "execution_count": null,
      "outputs": []
    },
    {
      "cell_type": "markdown",
      "source": [
        "## **Exercise 38 - Program to Insert Numbers in a List**"
      ],
      "metadata": {
        "id": "6N8av_G4espV"
      }
    },
    {
      "cell_type": "code",
      "source": [
        "numbers = [3,4,1,9,6,2,8]\n",
        "print(numbers)\n",
        "x = int(input(\"Enter the number to be inserted: \"))\n",
        "y = int(input(\"Enter the position: \"))\n",
        "numbers.insert(y,x)\n",
        "print(numbers)"
      ],
      "metadata": {
        "id": "zmX-mqclfCva"
      },
      "execution_count": null,
      "outputs": []
    },
    {
      "cell_type": "markdown",
      "source": [
        "## **Exercise 39 - Add Two Matrix in a Python Program**"
      ],
      "metadata": {
        "id": "FXuaX2wnfEHf"
      }
    },
    {
      "cell_type": "code",
      "source": [
        "X = [[8,5,1],\n",
        "[9 ,3,2],\n",
        "[4 ,6,3]]\n",
        "Y = [[8,5,3],\n",
        "[9,5,7],\n",
        "[9,4,1]]\n",
        "result = [[0,0,0],\n",
        "[0,0,0],\n",
        "[0,0,0]]\n",
        "for i in range(len(X)):\n",
        "    for j in range(len(X[0])):\n",
        "        result[i][j] = X[i][j] + Y[i][j]\n",
        "for k in result:\n",
        "    print(k)"
      ],
      "metadata": {
        "id": "ZhEII-XRfXvA"
      },
      "execution_count": null,
      "outputs": []
    },
    {
      "cell_type": "markdown",
      "source": [
        "## **Exercise 40 - Impliment a basic python calculator**"
      ],
      "metadata": {
        "id": "ngEmSYqCfY6k"
      }
    },
    {
      "cell_type": "code",
      "source": [
        "def add(x,y):\n",
        "    print(x+y)\n",
        "\n",
        "def subtract(x,y):\n",
        "    print(x-y)\n",
        "\n",
        "def multiply(x,y):\n",
        "    print(x*y)\n",
        "\n",
        "def divide(x,y):\n",
        "    print(x/y)\n",
        "\n",
        "print(\"Enter two numbers\")\n",
        "n1=input()\n",
        "n2=input()\n",
        "\n",
        "print(\"Enter the operation +,-,,/ \") \n",
        "op=input() \n",
        "\n",
        "if op=='+':\n",
        "    add(int(n1),int(n2))\n",
        "elif op=='-':\n",
        "    subtract(int(n1),int(n2))\n",
        "elif op=='':\n",
        "    multiply(int(n1),int(n2))\n",
        "elif op=='/':\n",
        "    divide(int(n1),int(n2))\n",
        "else:\n",
        "    print(\" Invalid entry \")"
      ],
      "metadata": {
        "id": "di7ACNH5fo8I"
      },
      "execution_count": null,
      "outputs": []
    }
  ]
}