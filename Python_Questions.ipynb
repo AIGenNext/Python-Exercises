{
  "nbformat": 4,
  "nbformat_minor": 0,
  "metadata": {
    "colab": {
      "name": "Python Questions.ipynb",
      "provenance": [],
      "collapsed_sections": [],
      "authorship_tag": "ABX9TyNkKogmwCqjMhs1+r92arEU",
      "include_colab_link": true
    },
    "kernelspec": {
      "name": "python3",
      "display_name": "Python 3"
    },
    "language_info": {
      "name": "python"
    }
  },
  "cells": [
    {
      "cell_type": "markdown",
      "metadata": {
        "id": "view-in-github",
        "colab_type": "text"
      },
      "source": [
        "<a href=\"https://colab.research.google.com/github/AIGenNext/Python-Exercises/blob/main/Python_Questions.ipynb\" target=\"_parent\"><img src=\"https://colab.research.google.com/assets/colab-badge.svg\" alt=\"Open In Colab\"/></a>"
      ]
    },
    {
      "cell_type": "markdown",
      "source": [
        "## **Exercise 1 - Positive or Negative**"
      ],
      "metadata": {
        "id": "VJojUVdsnhMw"
      }
    },
    {
      "cell_type": "code",
      "source": [
        "# Enter Your Code Here"
      ],
      "metadata": {
        "id": "Jv4a12LCo1bx"
      },
      "execution_count": null,
      "outputs": []
    },
    {
      "cell_type": "markdown",
      "source": [
        "## **Exercise 2 - Max of Two Numbers**"
      ],
      "metadata": {
        "id": "4BAS3V_snxoc"
      }
    },
    {
      "cell_type": "code",
      "source": [
        "# Enter Your Code Here"
      ],
      "metadata": {
        "id": "c1pDRI85o_K3"
      },
      "execution_count": null,
      "outputs": []
    },
    {
      "cell_type": "markdown",
      "source": [
        "## **Exercise 3 - Max of Three Numbers**"
      ],
      "metadata": {
        "id": "aI5PunzvoGaG"
      }
    },
    {
      "cell_type": "code",
      "source": [
        "# Enter Your Code Here"
      ],
      "metadata": {
        "id": "yt16OWOoo_6J"
      },
      "execution_count": null,
      "outputs": []
    },
    {
      "cell_type": "markdown",
      "source": [
        "## **Exercise 4 - Welcome a User**"
      ],
      "metadata": {
        "id": "ckE3TimUogX5"
      }
    },
    {
      "cell_type": "code",
      "source": [
        "# Enter Your Code Here"
      ],
      "metadata": {
        "id": "ExeLscTcpGvF"
      },
      "execution_count": null,
      "outputs": []
    },
    {
      "cell_type": "markdown",
      "source": [
        "## **Exercise 5 - Prime Number or Not**"
      ],
      "metadata": {
        "id": "fCip9lyZTUmN"
      }
    },
    {
      "cell_type": "code",
      "source": [
        "# Enter Your Code Here"
      ],
      "metadata": {
        "id": "LNjacMy1pHbD"
      },
      "execution_count": null,
      "outputs": []
    },
    {
      "cell_type": "markdown",
      "source": [
        "## **Exercise 6 - Print a Pattern pt 1**"
      ],
      "metadata": {
        "id": "IbB3jTHnWDAt"
      }
    },
    {
      "cell_type": "code",
      "source": [
        "# Enter Your Code Here"
      ],
      "metadata": {
        "id": "vpNHrt6mpIPp"
      },
      "execution_count": null,
      "outputs": []
    },
    {
      "cell_type": "markdown",
      "source": [
        "## **Exercise 7 - Print Pattern in Reverse**"
      ],
      "metadata": {
        "id": "yhtSC96mXk6s"
      }
    },
    {
      "cell_type": "code",
      "source": [
        "# Enter Your Code Here"
      ],
      "metadata": {
        "id": "Vh-QBURypI5T"
      },
      "execution_count": null,
      "outputs": []
    },
    {
      "cell_type": "markdown",
      "source": [
        "## **Exercise 8 - Odd or Even**"
      ],
      "metadata": {
        "id": "R4_FfEQ2XyQn"
      }
    },
    {
      "cell_type": "code",
      "source": [
        "# Enter Your Code Here"
      ],
      "metadata": {
        "id": "tosJW9C4pJpT"
      },
      "execution_count": null,
      "outputs": []
    },
    {
      "cell_type": "markdown",
      "source": [
        "## **Exercise 9 - Sum of First N Natural Numbers**"
      ],
      "metadata": {
        "id": "dD1Q5w0lZNSi"
      }
    },
    {
      "cell_type": "code",
      "source": [
        "# Enter Your Code Here"
      ],
      "metadata": {
        "id": "19lRgUGVpKLJ"
      },
      "execution_count": null,
      "outputs": []
    },
    {
      "cell_type": "markdown",
      "source": [
        "## **Exercise 10 - Marks and Grade**"
      ],
      "metadata": {
        "id": "NGsPEHqAbUaU"
      }
    },
    {
      "cell_type": "code",
      "source": [
        "# Enter Your Code Here"
      ],
      "metadata": {
        "id": "s-TwVbSipK00"
      },
      "execution_count": null,
      "outputs": []
    },
    {
      "cell_type": "markdown",
      "source": [
        "## **Exercise 11 - Multiplication Table of 2**"
      ],
      "metadata": {
        "id": "YwYAMwLvevmM"
      }
    },
    {
      "cell_type": "code",
      "source": [
        "# Enter Your Code Here"
      ],
      "metadata": {
        "id": "MheieMl4pLlr"
      },
      "execution_count": null,
      "outputs": []
    },
    {
      "cell_type": "markdown",
      "source": [
        "## **Exercise 12 - Factrial of a Number**"
      ],
      "metadata": {
        "id": "MnOTXTDifJB4"
      }
    },
    {
      "cell_type": "code",
      "source": [
        "# Enter Your Code Here"
      ],
      "metadata": {
        "id": "7zHw1cOHpMPi"
      },
      "execution_count": null,
      "outputs": []
    },
    {
      "cell_type": "markdown",
      "source": [
        "## **Exercise 13 - Fibonacci Series**"
      ],
      "metadata": {
        "id": "zZbThcMkgLXS"
      }
    },
    {
      "cell_type": "code",
      "source": [
        "# Enter Your Code Here"
      ],
      "metadata": {
        "id": "KWC6Dq6PpM4S"
      },
      "execution_count": null,
      "outputs": []
    },
    {
      "cell_type": "markdown",
      "source": [
        "## **Exercise 14 - Write Program to Find Power**"
      ],
      "metadata": {
        "id": "I8H_cb7mi3mh"
      }
    },
    {
      "cell_type": "code",
      "source": [
        "# Enter Your Code Here"
      ],
      "metadata": {
        "id": "HaiP37R-pNVS"
      },
      "execution_count": null,
      "outputs": []
    },
    {
      "cell_type": "markdown",
      "source": [
        "## **Exercise 15 - Reverse a Number**\n"
      ],
      "metadata": {
        "id": "hMGFjOqQwbJ8"
      }
    },
    {
      "cell_type": "code",
      "source": [
        "# Enter Your Code Here"
      ],
      "metadata": {
        "id": "U3OXOBhxpOAO"
      },
      "execution_count": null,
      "outputs": []
    },
    {
      "cell_type": "markdown",
      "source": [
        "## **Exercise 16 - Check if Palindrome**"
      ],
      "metadata": {
        "id": "_7UXU4mWwDV9"
      }
    },
    {
      "cell_type": "code",
      "source": [
        "# Enter Your Code Here"
      ],
      "metadata": {
        "id": "hoft_1XEpOdW"
      },
      "execution_count": null,
      "outputs": []
    },
    {
      "cell_type": "markdown",
      "source": [
        "## **Exercise 17 - Count Total Number of Digits in a Number**"
      ],
      "metadata": {
        "id": "eXJYyY9KxC8V"
      }
    },
    {
      "cell_type": "code",
      "source": [
        "# Enter Your Code Here"
      ],
      "metadata": {
        "id": "wHUXuF2-pPjO"
      },
      "execution_count": null,
      "outputs": []
    },
    {
      "cell_type": "markdown",
      "source": [
        "## **Exercise 18 - Display Number From List that are greater than 5**"
      ],
      "metadata": {
        "id": "C2GSUZudyJk2"
      }
    },
    {
      "cell_type": "code",
      "source": [
        "# Enter Your Code Here"
      ],
      "metadata": {
        "id": "wR6t_5AvpQMv"
      },
      "execution_count": null,
      "outputs": []
    },
    {
      "cell_type": "markdown",
      "source": [
        "## **Exercise 19 - Print List in Reverse Order**"
      ],
      "metadata": {
        "id": "YB6TZ_A74uId"
      }
    },
    {
      "cell_type": "code",
      "source": [
        "# Enter Your Code Here"
      ],
      "metadata": {
        "id": "kGWn-vi6pRKQ"
      },
      "execution_count": null,
      "outputs": []
    },
    {
      "cell_type": "markdown",
      "source": [
        "## **Exercise 20 - Find if a alphabet is a vowel**"
      ],
      "metadata": {
        "id": "q9F9X_mU5RlN"
      }
    },
    {
      "cell_type": "code",
      "source": [
        "# Enter Your Code Here"
      ],
      "metadata": {
        "id": "MzrN9lYlpRus"
      },
      "execution_count": null,
      "outputs": []
    },
    {
      "cell_type": "markdown",
      "source": [
        "## **Exercise 21 - Find Cube of a Number**"
      ],
      "metadata": {
        "id": "1dI2zVoa7QrO"
      }
    },
    {
      "cell_type": "code",
      "source": [
        "# Enter Your Code Here"
      ],
      "metadata": {
        "id": "65VuxvggpSYT"
      },
      "execution_count": null,
      "outputs": []
    },
    {
      "cell_type": "markdown",
      "source": [
        "## **Exercise 22 - Split String on Hyphens**"
      ],
      "metadata": {
        "id": "3xkqgYf27sIW"
      }
    },
    {
      "cell_type": "code",
      "source": [
        "# Enter Your Code Here"
      ],
      "metadata": {
        "id": "EWJumGiUpS7K"
      },
      "execution_count": null,
      "outputs": []
    },
    {
      "cell_type": "markdown",
      "source": [
        "## **Exercise 23 - Swap Two Variables**"
      ],
      "metadata": {
        "id": "b_xc78jM83U2"
      }
    },
    {
      "cell_type": "code",
      "source": [
        "# Enter Your Code Here"
      ],
      "metadata": {
        "id": "V5sjIlCspT0l"
      },
      "execution_count": null,
      "outputs": []
    },
    {
      "cell_type": "markdown",
      "source": [
        "## **Exercise 24 - Check Leap Year**"
      ],
      "metadata": {
        "id": "rkqFLb99AT_V"
      }
    },
    {
      "cell_type": "code",
      "source": [
        "# Enter Your Code Here"
      ],
      "metadata": {
        "id": "jtKRwgxZpU6F"
      },
      "execution_count": null,
      "outputs": []
    },
    {
      "cell_type": "markdown",
      "source": [
        "## **Exercise 25 - Square all items in a list**"
      ],
      "metadata": {
        "id": "wOzqIvi-Ecrk"
      }
    },
    {
      "cell_type": "code",
      "source": [
        "# Enter Your Code Here"
      ],
      "metadata": {
        "id": "bKH1_FNDpVgg"
      },
      "execution_count": null,
      "outputs": []
    },
    {
      "cell_type": "markdown",
      "source": [
        "## **Exercise 26 - Add all Elements in a List**"
      ],
      "metadata": {
        "id": "2f1dl0j4E_PZ"
      }
    },
    {
      "cell_type": "code",
      "source": [
        "# Enter Your Code Here"
      ],
      "metadata": {
        "id": "PCkqzEU8pWT0"
      },
      "execution_count": null,
      "outputs": []
    },
    {
      "cell_type": "markdown",
      "source": [
        "## **Exercise 27 - Find Largest Num in list without using Max Function**"
      ],
      "metadata": {
        "id": "F0rYmgjIFZNd"
      }
    },
    {
      "cell_type": "code",
      "source": [
        "# Enter Your Code Here"
      ],
      "metadata": {
        "id": "tJDA9NVnpXCt"
      },
      "execution_count": null,
      "outputs": []
    },
    {
      "cell_type": "markdown",
      "source": [
        "## **Exercise 28 - Count How many times a Element Appears in a List**"
      ],
      "metadata": {
        "id": "wLJ53xyYGN20"
      }
    },
    {
      "cell_type": "code",
      "source": [
        "# Enter Your Code Here"
      ],
      "metadata": {
        "id": "I5lD3zkOpX1E"
      },
      "execution_count": null,
      "outputs": []
    },
    {
      "cell_type": "markdown",
      "source": [
        "## **Exercise 29 - Program To Find Even and Odd Numbers in a List**"
      ],
      "metadata": {
        "id": "9ZtobcYTVbaK"
      }
    },
    {
      "cell_type": "code",
      "source": [
        "# Enter Your Code Here"
      ],
      "metadata": {
        "id": "ON-ro6pcpYoE"
      },
      "execution_count": null,
      "outputs": []
    },
    {
      "cell_type": "markdown",
      "source": [
        "## **Exercise 30 - Convert a List into a Single String**"
      ],
      "metadata": {
        "id": "vKen3bKGWD2H"
      }
    },
    {
      "cell_type": "code",
      "source": [
        "# Enter Your Code Here"
      ],
      "metadata": {
        "id": "XZz1DMpHpZJN"
      },
      "execution_count": null,
      "outputs": []
    },
    {
      "cell_type": "markdown",
      "source": [
        "## **Exercise 31 - Swap the First and Last Elements of the List**"
      ],
      "metadata": {
        "id": "xnNXSRBOWnNp"
      }
    },
    {
      "cell_type": "code",
      "source": [
        "# Enter Your Code Here"
      ],
      "metadata": {
        "id": "LDY-tfGipZ26"
      },
      "execution_count": null,
      "outputs": []
    },
    {
      "cell_type": "markdown",
      "source": [
        "## **Exercise 32 - Add a Tuple to a List and Vice-Versa**"
      ],
      "metadata": {
        "id": "I8I6859ZYE1x"
      }
    },
    {
      "cell_type": "code",
      "source": [
        "# Enter Your Code Here"
      ],
      "metadata": {
        "id": "ryPzPGgjpad6"
      },
      "execution_count": null,
      "outputs": []
    },
    {
      "cell_type": "markdown",
      "source": [
        "## **Exercise 33 - Sum of all Items in a Dictionary**"
      ],
      "metadata": {
        "id": "QnglrZW2Yvuw"
      }
    },
    {
      "cell_type": "code",
      "source": [
        "# Enter Your Code Here"
      ],
      "metadata": {
        "id": "HNoNiMC5pbAa"
      },
      "execution_count": null,
      "outputs": []
    },
    {
      "cell_type": "markdown",
      "source": [
        "## **Exercise 34 - Find if a Given Number is ArmStrong Number**"
      ],
      "metadata": {
        "id": "EDJWqyysZSU1"
      }
    },
    {
      "cell_type": "code",
      "source": [
        "# Enter Your Code Here"
      ],
      "metadata": {
        "id": "Qq4KOxx0pbj_"
      },
      "execution_count": null,
      "outputs": []
    },
    {
      "cell_type": "markdown",
      "source": [
        "## **Exercise 35 - Check if password has atleast one letter and one number**"
      ],
      "metadata": {
        "id": "SFHEO6hladXp"
      }
    },
    {
      "cell_type": "code",
      "source": [
        "# Enter Your Code Here"
      ],
      "metadata": {
        "id": "ACRi0pCjpcD5"
      },
      "execution_count": null,
      "outputs": []
    },
    {
      "cell_type": "markdown",
      "source": [
        "## **Exercise 36 - Perfect Number**"
      ],
      "metadata": {
        "id": "pfUm2LA3craE"
      }
    },
    {
      "cell_type": "code",
      "source": [
        "# Enter Your Code Here"
      ],
      "metadata": {
        "id": "V8fM2eDZpcqC"
      },
      "execution_count": null,
      "outputs": []
    },
    {
      "cell_type": "markdown",
      "source": [
        "## **Exercise 37 - Program to Find Average of Set of Integers**"
      ],
      "metadata": {
        "id": "nxL4RszKdoaZ"
      }
    },
    {
      "cell_type": "code",
      "source": [
        "# Enter Your Code Here"
      ],
      "metadata": {
        "id": "3DlHujFnpdnD"
      },
      "execution_count": null,
      "outputs": []
    },
    {
      "cell_type": "markdown",
      "source": [
        "## **Exercise 38 - Program to Insert Numbers in a List**"
      ],
      "metadata": {
        "id": "6N8av_G4espV"
      }
    },
    {
      "cell_type": "code",
      "source": [
        "# Enter Your Code Here"
      ],
      "metadata": {
        "id": "yZ3W_30rpeLT"
      },
      "execution_count": null,
      "outputs": []
    },
    {
      "cell_type": "markdown",
      "source": [
        "## **Exercise 39 - Add Two Matrix in a Python Program**"
      ],
      "metadata": {
        "id": "FXuaX2wnfEHf"
      }
    },
    {
      "cell_type": "code",
      "source": [
        "# Enter Your Code Here"
      ],
      "metadata": {
        "id": "tKdKIZH1pfCM"
      },
      "execution_count": null,
      "outputs": []
    },
    {
      "cell_type": "markdown",
      "source": [
        "## **Exercise 40 - Impliment a basic python calculator**"
      ],
      "metadata": {
        "id": "ngEmSYqCfY6k"
      }
    },
    {
      "cell_type": "code",
      "source": [
        "# Enter Your Code Here"
      ],
      "metadata": {
        "id": "qZAHm8FqpfuR"
      },
      "execution_count": null,
      "outputs": []
    }
  ]
}