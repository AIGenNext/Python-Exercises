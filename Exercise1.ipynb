{
  "nbformat": 4,
  "nbformat_minor": 0,
  "metadata": {
    "colab": {
      "name": "Exercise1.ipynb",
      "provenance": [],
      "authorship_tag": "ABX9TyPIEePUvnpmDRXARTZA1NTr",
      "include_colab_link": true
    },
    "kernelspec": {
      "name": "python3",
      "display_name": "Python 3"
    },
    "language_info": {
      "name": "python"
    }
  },
  "cells": [
    {
      "cell_type": "markdown",
      "metadata": {
        "id": "view-in-github",
        "colab_type": "text"
      },
      "source": [
        "<a href=\"https://colab.research.google.com/github/AIGenNext/Python-Exercises/blob/main/Exercise1.ipynb\" target=\"_parent\"><img src=\"https://colab.research.google.com/assets/colab-badge.svg\" alt=\"Open In Colab\"/></a>"
      ]
    },
    {
      "cell_type": "markdown",
      "source": [
        "## Maximum of Two Numbers\n",
        "\n",
        "Write a Python Program to Find the Maximum of Two Given Numbers\n",
        "\n",
        "**Problem Statement**\n",
        "\n",
        "Take Two Numbers as Input and Find Which of the Two Numbers is the Maximum Number and Print the Result."
      ],
      "metadata": {
        "id": "Ty0BCUuZb8Rz"
      }
    },
    {
      "cell_type": "markdown",
      "source": [
        "**Sample Input 1** : 20 40\n",
        "\n",
        "**Sample Output 1** : 40\n",
        "\n",
        "\n",
        "---\n",
        "\n",
        "\n",
        "**Sample Input 2** : 34, 65\n",
        "\n",
        "**Sample Output 2** : 65"
      ],
      "metadata": {
        "id": "jVSFU7AkceGB"
      }
    },
    {
      "cell_type": "code",
      "execution_count": null,
      "metadata": {
        "id": "bNNC4NFvT8Xg"
      },
      "outputs": [],
      "source": [
        "# Enter Your Code Here"
      ]
    }
  ]
}